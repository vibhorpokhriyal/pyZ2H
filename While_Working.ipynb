{
 "cells": [
  {
   "cell_type": "code",
   "execution_count": 1,
   "metadata": {
    "collapsed": true
   },
   "outputs": [],
   "source": [
    "# while statement:\n",
    "#     is one of the general ways to perform iteration\n",
    "#     it keeps executing a statement until a true value occurs\n",
    "\n",
    "# while test:\n",
    "#     code statement\n",
    "# else:\n",
    "#     final code statement\n"
   ]
  },
  {
   "cell_type": "code",
   "execution_count": 2,
   "metadata": {},
   "outputs": [
    {
     "name": "stdout",
     "output_type": "stream",
     "text": [
      "x is currently: 0\n",
      "x is currently: 1\n",
      "x is currently: 2\n",
      "x is currently: 3\n",
      "x is currently: 4\n",
      "x is currently: 5\n",
      "x is currently: 6\n",
      "x is currently: 7\n",
      "x is currently: 8\n",
      "x is currently: 9\n"
     ]
    }
   ],
   "source": [
    "x = 0\n",
    "\n",
    "while x < 10:\n",
    "    #do somthing\n",
    "    print(\"x is currently: {}\".format(x))\n",
    "    x += 1"
   ]
  },
  {
   "cell_type": "code",
   "execution_count": 3,
   "metadata": {},
   "outputs": [
    {
     "name": "stdout",
     "output_type": "stream",
     "text": [
      "x is currently: 0\n",
      "x is currently: 1\n",
      "x is currently: 2\n",
      "x is currently: 3\n",
      "x is currently: 4\n",
      "x is currently: 5\n",
      "x is currently: 6\n",
      "x is currently: 7\n",
      "x is currently: 8\n",
      "x is currently: 9\n",
      "All Done!\n"
     ]
    }
   ],
   "source": [
    "x = 0\n",
    "\n",
    "while x < 10:\n",
    "    #do somthing\n",
    "    print(\"x is currently: {}\".format(x))\n",
    "    x += 1\n",
    "else:\n",
    "    print(\"All Done!\")"
   ]
  },
  {
   "cell_type": "code",
   "execution_count": 6,
   "metadata": {},
   "outputs": [],
   "source": [
    "# #Break - Continue - Pass\n",
    "# Break: Break out of the current enclosing loop\n",
    "# Continue: goes to the top of the current enclosing loop\n",
    "# pass: does nothing at all\n",
    "\n",
    "# example:\n",
    "# while test:\n",
    "#     code statement\n",
    "#     if test:\n",
    "#         break\n",
    "#     if test:\n",
    "#         continue\n",
    "# else:"
   ]
  },
  {
   "cell_type": "code",
   "execution_count": 8,
   "metadata": {},
   "outputs": [
    {
     "name": "stdout",
     "output_type": "stream",
     "text": [
      "x is currently:  0\n",
      "x is still less then 10, adding 1 to x\n",
      "Continuing...\n",
      "x is currently:  1\n",
      "x is still less then 10, adding 1 to x\n",
      "Continuing...\n",
      "x is currently:  2\n",
      "x is still less then 10, adding 1 to x\n",
      "Hey x equals 3!\n"
     ]
    }
   ],
   "source": [
    "x = 0\n",
    "\n",
    "while x < 10:\n",
    "    print(\"x is currently: \",x)\n",
    "    print(\"x is still less then 10, adding 1 to x\")\n",
    "    x += 1\n",
    "    \n",
    "    if x == 3:\n",
    "        print(\"Hey x equals 3!\")\n",
    "        break\n",
    "    else:\n",
    "        print(\"Continuing...\")\n",
    "        continue"
   ]
  },
  {
   "cell_type": "code",
   "execution_count": null,
   "metadata": {
    "collapsed": true
   },
   "outputs": [],
   "source": []
  }
 ],
 "metadata": {
  "kernelspec": {
   "display_name": "Python 3",
   "language": "python",
   "name": "python3"
  },
  "language_info": {
   "codemirror_mode": {
    "name": "ipython",
    "version": 3
   },
   "file_extension": ".py",
   "mimetype": "text/x-python",
   "name": "python",
   "nbconvert_exporter": "python",
   "pygments_lexer": "ipython3",
   "version": "3.6.1"
  }
 },
 "nbformat": 4,
 "nbformat_minor": 2
}
